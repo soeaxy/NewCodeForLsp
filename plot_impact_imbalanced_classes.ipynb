{
  "cells": [
    {
      "cell_type": "code",
      "execution_count": 48,
      "metadata": {
        "collapsed": false
      },
      "outputs": [],
      "source": [
        "%matplotlib inline"
      ]
    },
    {
      "cell_type": "markdown",
      "metadata": {},
      "source": [
        "\n",
        "# Fitting model on imbalanced datasets and how to fight bias\n",
        "\n",
        "This example illustrates the problem induced by learning on datasets having\n",
        "imbalanced classes. Subsequently, we compare different approaches alleviating\n",
        "these negative effects.\n"
      ]
    },
    {
      "cell_type": "code",
      "execution_count": 49,
      "metadata": {
        "collapsed": false
      },
      "outputs": [],
      "source": [
        "# Authors: Guillaume Lemaitre <g.lemaitre58@gmail.com>\n",
        "# License: MIT\n",
        "# Modified by yxsong@ecut.edu.cn"
      ]
    },
    {
      "cell_type": "code",
      "execution_count": 50,
      "metadata": {
        "collapsed": false
      },
      "outputs": [
        {
          "name": "stdout",
          "output_type": "stream",
          "text": [
            "Automatically created module for IPython interactive environment\n"
          ]
        }
      ],
      "source": [
        "print(__doc__)"
      ]
    },
    {
      "cell_type": "markdown",
      "metadata": {},
      "source": [
        "## Problem definition\n",
        "\n",
        "- The imbalanced learning of Landslide Suscepitbility \n",
        "\n"
      ]
    },
    {
      "cell_type": "markdown",
      "metadata": {},
      "source": [
        "The \"wanzhou\" dataset as a class ratio of about 19:1\n",
        "\n"
      ]
    },
    {
      "cell_type": "code",
      "execution_count": 51,
      "metadata": {
        "collapsed": false
      },
      "outputs": [
        {
          "name": "stdout",
          "output_type": "stream",
          "text": [
            "0    553172\n",
            "1     29313\n",
            "Name: value, dtype: int64\n"
          ]
        }
      ],
      "source": [
        "from sklearn.model_selection import train_test_split\n",
        "import pandas as pd\n",
        "data = pd.read_csv('./data/wanzhou_island.csv')\n",
        "target = 'value'\n",
        "IDCol = 'ID'\n",
        "GeoID = data[IDCol]\n",
        "print(data[target].value_counts())\n",
        "# x_columns = [x for x in data.columns if x not in [target,IDCol,'GRID_CODE']]\n"
      ]
    },
    {
      "cell_type": "markdown",
      "metadata": {},
      "source": [
        "Data Prepare\n",
        "\n"
      ]
    },
    {
      "cell_type": "code",
      "execution_count": 52,
      "metadata": {
        "collapsed": false
      },
      "outputs": [],
      "source": [
        "x_columns = ['Elevation', 'Slope', 'Aspect', 'TRI', 'Curvature', 'Lithology', 'River', 'NDVI', 'NDWI', 'Rainfall', 'Earthquake', 'Land_use']\n",
        "\n",
        "X = data[x_columns]\n",
        "y = data[target]\n",
        "X_train, X_test, y_train, y_test = train_test_split(X, y, test_size=0.4,stratify=y, random_state=0)"
      ]
    },
    {
      "cell_type": "markdown",
      "metadata": {},
      "source": [
        "We will perform a cross-validation evaluation to get an estimate of the test\n",
        "score.\n",
        "\n",
        "As a baseline, we could use a classifier which will always predict the\n",
        "majority class independently of the features provided.\n",
        "\n"
      ]
    },
    {
      "cell_type": "code",
      "execution_count": 53,
      "metadata": {
        "collapsed": false
      },
      "outputs": [
        {
          "name": "stdout",
          "output_type": "stream",
          "text": [
            "Accuracy score of a dummy classifier: 0.950\n"
          ]
        }
      ],
      "source": [
        "from sklearn.model_selection import cross_validate\n",
        "from sklearn.dummy import DummyClassifier\n",
        "\n",
        "dummy_clf = DummyClassifier(strategy=\"most_frequent\")\n",
        "scoring = [\"accuracy\", \"balanced_accuracy\"]\n",
        "cv_result = cross_validate(dummy_clf, X, y, scoring=scoring)\n",
        "print(f\"Accuracy score of a dummy classifier: {cv_result['test_accuracy'].mean():.3f}\")"
      ]
    },
    {
      "cell_type": "markdown",
      "metadata": {},
      "source": [
        "Instead of using the accuracy, we can use the balanced accuracy which will\n",
        "take into account the balancing issue.\n",
        "\n"
      ]
    },
    {
      "cell_type": "code",
      "execution_count": 54,
      "metadata": {
        "collapsed": false
      },
      "outputs": [
        {
          "name": "stdout",
          "output_type": "stream",
          "text": [
            "Balanced accuracy score of a dummy classifier: 0.500\n"
          ]
        }
      ],
      "source": [
        "print(\n",
        "    f\"Balanced accuracy score of a dummy classifier: \"\n",
        "    f\"{cv_result['test_balanced_accuracy'].mean():.3f}\"\n",
        ")"
      ]
    },
    {
      "cell_type": "markdown",
      "metadata": {},
      "source": [
        "## Strategies to learn from an imbalanced dataset\n",
        "We will use a dictionary and a list to continuously store the results of\n",
        "our experiments and show them as a pandas dataframe.\n",
        "\n"
      ]
    },
    {
      "cell_type": "code",
      "execution_count": 55,
      "metadata": {
        "collapsed": false
      },
      "outputs": [],
      "source": [
        "index = []\n",
        "scores = {\"Accuracy\": [], \"Balanced accuracy\": []}"
      ]
    },
    {
      "cell_type": "markdown",
      "metadata": {},
      "source": [
        "### Dummy baseline\n",
        "\n",
        "Before to train a real machine learning model, we can store the results\n",
        "obtained with our :class:`~sklearn.dummy.DummyClassifier`.\n",
        "\n"
      ]
    },
    {
      "cell_type": "code",
      "execution_count": 56,
      "metadata": {
        "collapsed": false
      },
      "outputs": [
        {
          "data": {
            "text/html": [
              "<div>\n",
              "<style scoped>\n",
              "    .dataframe tbody tr th:only-of-type {\n",
              "        vertical-align: middle;\n",
              "    }\n",
              "\n",
              "    .dataframe tbody tr th {\n",
              "        vertical-align: top;\n",
              "    }\n",
              "\n",
              "    .dataframe thead th {\n",
              "        text-align: right;\n",
              "    }\n",
              "</style>\n",
              "<table border=\"1\" class=\"dataframe\">\n",
              "  <thead>\n",
              "    <tr style=\"text-align: right;\">\n",
              "      <th></th>\n",
              "      <th>Accuracy</th>\n",
              "      <th>Balanced accuracy</th>\n",
              "    </tr>\n",
              "  </thead>\n",
              "  <tbody>\n",
              "    <tr>\n",
              "      <th>Dummy classifier</th>\n",
              "      <td>0.949676</td>\n",
              "      <td>0.5</td>\n",
              "    </tr>\n",
              "  </tbody>\n",
              "</table>\n",
              "</div>"
            ],
            "text/plain": [
              "                  Accuracy  Balanced accuracy\n",
              "Dummy classifier  0.949676                0.5"
            ]
          },
          "execution_count": 56,
          "metadata": {},
          "output_type": "execute_result"
        }
      ],
      "source": [
        "import pandas as pd\n",
        "\n",
        "index += [\"Dummy classifier\"]\n",
        "cv_result = cross_validate(dummy_clf, X, y, scoring=scoring)\n",
        "scores[\"Accuracy\"].append(cv_result[\"test_accuracy\"].mean())\n",
        "scores[\"Balanced accuracy\"].append(cv_result[\"test_balanced_accuracy\"].mean())\n",
        "\n",
        "df_scores = pd.DataFrame(scores, index=index)\n",
        "df_scores"
      ]
    },
    {
      "cell_type": "markdown",
      "metadata": {},
      "source": [
        "### Linear classifier baseline\n",
        "\n",
        "We will create a machine learning pipeline using a\n",
        ":class:`~sklearn.linear_model.LogisticRegression` classifier. In this regard,\n",
        "we will need to one-hot encode the categorical columns and standardized the\n",
        "numerical columns before to inject the data into the\n",
        ":class:`~sklearn.linear_model.LogisticRegression` classifier.\n",
        "\n",
        "First, we define our numerical and categorical pipelines.\n",
        "\n"
      ]
    },
    {
      "cell_type": "code",
      "execution_count": 58,
      "metadata": {
        "collapsed": false
      },
      "outputs": [],
      "source": [
        "from sklearn.impute import SimpleImputer\n",
        "from sklearn.preprocessing import StandardScaler\n",
        "from sklearn.preprocessing import OneHotEncoder\n",
        "from sklearn.pipeline import make_pipeline\n",
        "\n",
        "num_pipe = make_pipeline(\n",
        "    StandardScaler(), SimpleImputer(strategy=\"mean\", add_indicator=True)\n",
        ")\n",
        "cat_pipe = make_pipeline(\n",
        "    SimpleImputer(strategy=\"constant\", fill_value=\"missing\"),\n",
        "    OneHotEncoder(handle_unknown=\"ignore\"),\n",
        ")"
      ]
    },
    {
      "cell_type": "markdown",
      "metadata": {},
      "source": [
        "Then, we can create a preprocessor which will dispatch the categorical\n",
        "columns to the categorical pipeline and the numerical columns to the\n",
        "numerical pipeline\n",
        "\n"
      ]
    },
    {
      "cell_type": "code",
      "execution_count": 59,
      "metadata": {
        "collapsed": false
      },
      "outputs": [],
      "source": [
        "from sklearn.compose import make_column_transformer\n",
        "from sklearn.compose import make_column_selector as selector\n",
        "\n",
        "preprocessor_linear = make_column_transformer(\n",
        "    (num_pipe, selector(dtype_include=\"number\")),\n",
        "    (cat_pipe, selector(dtype_include=\"category\")),\n",
        "    n_jobs=2,\n",
        ")"
      ]
    },
    {
      "cell_type": "markdown",
      "metadata": {},
      "source": [
        "Finally, we connect our preprocessor with our\n",
        ":class:`~sklearn.linear_model.LogisticRegression`. We can then evaluate our\n",
        "model.\n",
        "\n"
      ]
    },
    {
      "cell_type": "code",
      "execution_count": 60,
      "metadata": {
        "collapsed": false
      },
      "outputs": [],
      "source": [
        "from sklearn.linear_model import LogisticRegression\n",
        "\n",
        "lr_clf = make_pipeline(preprocessor_linear, LogisticRegression(max_iter=1000))"
      ]
    },
    {
      "cell_type": "code",
      "execution_count": 61,
      "metadata": {
        "collapsed": false
      },
      "outputs": [
        {
          "data": {
            "text/html": [
              "<div>\n",
              "<style scoped>\n",
              "    .dataframe tbody tr th:only-of-type {\n",
              "        vertical-align: middle;\n",
              "    }\n",
              "\n",
              "    .dataframe tbody tr th {\n",
              "        vertical-align: top;\n",
              "    }\n",
              "\n",
              "    .dataframe thead th {\n",
              "        text-align: right;\n",
              "    }\n",
              "</style>\n",
              "<table border=\"1\" class=\"dataframe\">\n",
              "  <thead>\n",
              "    <tr style=\"text-align: right;\">\n",
              "      <th></th>\n",
              "      <th>Accuracy</th>\n",
              "      <th>Balanced accuracy</th>\n",
              "    </tr>\n",
              "  </thead>\n",
              "  <tbody>\n",
              "    <tr>\n",
              "      <th>Dummy classifier</th>\n",
              "      <td>0.949676</td>\n",
              "      <td>0.500000</td>\n",
              "    </tr>\n",
              "    <tr>\n",
              "      <th>Logistic regression</th>\n",
              "      <td>0.938623</td>\n",
              "      <td>0.497331</td>\n",
              "    </tr>\n",
              "  </tbody>\n",
              "</table>\n",
              "</div>"
            ],
            "text/plain": [
              "                     Accuracy  Balanced accuracy\n",
              "Dummy classifier     0.949676           0.500000\n",
              "Logistic regression  0.938623           0.497331"
            ]
          },
          "execution_count": 61,
          "metadata": {},
          "output_type": "execute_result"
        }
      ],
      "source": [
        "index += [\"Logistic regression\"]\n",
        "cv_result = cross_validate(lr_clf, X, y, scoring=scoring)\n",
        "scores[\"Accuracy\"].append(cv_result[\"test_accuracy\"].mean())\n",
        "scores[\"Balanced accuracy\"].append(cv_result[\"test_balanced_accuracy\"].mean())\n",
        "\n",
        "df_scores = pd.DataFrame(scores, index=index)\n",
        "df_scores"
      ]
    },
    {
      "cell_type": "markdown",
      "metadata": {},
      "source": [
        "We can see that our linear model is learning slightly better than our dummy\n",
        "baseline. However, it is impacted by the class imbalance.\n",
        "\n",
        "We can verify that something similar is happening with a tree-based model\n",
        "such as :class:`~sklearn.ensemble.RandomForestClassifier`. With this type of\n",
        "classifier, we will not need to scale the numerical data, and we will only\n",
        "need to ordinal encode the categorical data.\n",
        "\n"
      ]
    },
    {
      "cell_type": "code",
      "execution_count": 62,
      "metadata": {
        "collapsed": false
      },
      "outputs": [],
      "source": [
        "from sklearn.preprocessing import OrdinalEncoder\n",
        "from sklearn.ensemble import RandomForestClassifier\n",
        "\n",
        "num_pipe = SimpleImputer(strategy=\"mean\", add_indicator=True)\n",
        "cat_pipe = make_pipeline(\n",
        "    SimpleImputer(strategy=\"constant\", fill_value=\"missing\"),\n",
        "    # OrdinalEncoder(handle_unknown=\"use_encoded_value\", unknown_value=-1),\n",
        ")\n",
        "\n",
        "preprocessor_tree = make_column_transformer(\n",
        "    (num_pipe, selector(dtype_include=\"number\")),\n",
        "    (cat_pipe, selector(dtype_include=\"category\")),\n",
        "    n_jobs=2,\n",
        ")\n",
        "\n",
        "rf_clf = make_pipeline(\n",
        "    preprocessor_tree, RandomForestClassifier(random_state=42, n_jobs=2)\n",
        ")"
      ]
    },
    {
      "cell_type": "code",
      "execution_count": 63,
      "metadata": {
        "collapsed": false
      },
      "outputs": [
        {
          "data": {
            "text/html": [
              "<div>\n",
              "<style scoped>\n",
              "    .dataframe tbody tr th:only-of-type {\n",
              "        vertical-align: middle;\n",
              "    }\n",
              "\n",
              "    .dataframe tbody tr th {\n",
              "        vertical-align: top;\n",
              "    }\n",
              "\n",
              "    .dataframe thead th {\n",
              "        text-align: right;\n",
              "    }\n",
              "</style>\n",
              "<table border=\"1\" class=\"dataframe\">\n",
              "  <thead>\n",
              "    <tr style=\"text-align: right;\">\n",
              "      <th></th>\n",
              "      <th>Accuracy</th>\n",
              "      <th>Balanced accuracy</th>\n",
              "    </tr>\n",
              "  </thead>\n",
              "  <tbody>\n",
              "    <tr>\n",
              "      <th>Dummy classifier</th>\n",
              "      <td>0.949676</td>\n",
              "      <td>0.500000</td>\n",
              "    </tr>\n",
              "    <tr>\n",
              "      <th>Logistic regression</th>\n",
              "      <td>0.938623</td>\n",
              "      <td>0.497331</td>\n",
              "    </tr>\n",
              "    <tr>\n",
              "      <th>Random forest</th>\n",
              "      <td>0.530513</td>\n",
              "      <td>0.305125</td>\n",
              "    </tr>\n",
              "  </tbody>\n",
              "</table>\n",
              "</div>"
            ],
            "text/plain": [
              "                     Accuracy  Balanced accuracy\n",
              "Dummy classifier     0.949676           0.500000\n",
              "Logistic regression  0.938623           0.497331\n",
              "Random forest        0.530513           0.305125"
            ]
          },
          "execution_count": 63,
          "metadata": {},
          "output_type": "execute_result"
        }
      ],
      "source": [
        "index += [\"Random forest\"]\n",
        "cv_result = cross_validate(rf_clf, X, y, scoring=scoring)\n",
        "scores[\"Accuracy\"].append(cv_result[\"test_accuracy\"].mean())\n",
        "scores[\"Balanced accuracy\"].append(cv_result[\"test_balanced_accuracy\"].mean())\n",
        "\n",
        "df_scores = pd.DataFrame(scores, index=index)\n",
        "# df_scores = pd.DataFrame(scores)\n",
        "\n",
        "df_scores"
      ]
    },
    {
      "cell_type": "markdown",
      "metadata": {},
      "source": [
        "The :class:`~sklearn.ensemble.RandomForestClassifier` is as well affected by\n",
        "the class imbalanced, slightly less than the linear model. Now, we will\n",
        "present different approach to improve the performance of these 2 models.\n",
        "\n",
        "### Use `class_weight`\n",
        "\n",
        "Most of the models in `scikit-learn` have a parameter `class_weight`. This\n",
        "parameter will affect the computation of the loss in linear model or the\n",
        "criterion in the tree-based model to penalize differently a false\n",
        "classification from the minority and majority class. We can set\n",
        "`class_weight=\"balanced\"` such that the weight applied is inversely\n",
        "proportional to the class frequency. We test this parametrization in both\n",
        "linear model and tree-based model.\n",
        "\n"
      ]
    },
    {
      "cell_type": "code",
      "execution_count": 64,
      "metadata": {
        "collapsed": false
      },
      "outputs": [
        {
          "data": {
            "text/html": [
              "<div>\n",
              "<style scoped>\n",
              "    .dataframe tbody tr th:only-of-type {\n",
              "        vertical-align: middle;\n",
              "    }\n",
              "\n",
              "    .dataframe tbody tr th {\n",
              "        vertical-align: top;\n",
              "    }\n",
              "\n",
              "    .dataframe thead th {\n",
              "        text-align: right;\n",
              "    }\n",
              "</style>\n",
              "<table border=\"1\" class=\"dataframe\">\n",
              "  <thead>\n",
              "    <tr style=\"text-align: right;\">\n",
              "      <th></th>\n",
              "      <th>Accuracy</th>\n",
              "      <th>Balanced accuracy</th>\n",
              "    </tr>\n",
              "  </thead>\n",
              "  <tbody>\n",
              "    <tr>\n",
              "      <th>Dummy classifier</th>\n",
              "      <td>0.949676</td>\n",
              "      <td>0.500000</td>\n",
              "    </tr>\n",
              "    <tr>\n",
              "      <th>Logistic regression</th>\n",
              "      <td>0.938623</td>\n",
              "      <td>0.497331</td>\n",
              "    </tr>\n",
              "    <tr>\n",
              "      <th>Random forest</th>\n",
              "      <td>0.530513</td>\n",
              "      <td>0.305125</td>\n",
              "    </tr>\n",
              "    <tr>\n",
              "      <th>Logistic regression with balanced class weights</th>\n",
              "      <td>0.574121</td>\n",
              "      <td>0.611144</td>\n",
              "    </tr>\n",
              "  </tbody>\n",
              "</table>\n",
              "</div>"
            ],
            "text/plain": [
              "                                                 Accuracy  Balanced accuracy\n",
              "Dummy classifier                                 0.949676           0.500000\n",
              "Logistic regression                              0.938623           0.497331\n",
              "Random forest                                    0.530513           0.305125\n",
              "Logistic regression with balanced class weights  0.574121           0.611144"
            ]
          },
          "execution_count": 64,
          "metadata": {},
          "output_type": "execute_result"
        }
      ],
      "source": [
        "lr_clf.set_params(logisticregression__class_weight=\"balanced\")\n",
        "\n",
        "index += [\"Logistic regression with balanced class weights\"]\n",
        "cv_result = cross_validate(lr_clf, X, y, scoring=scoring)\n",
        "scores[\"Accuracy\"].append(cv_result[\"test_accuracy\"].mean())\n",
        "scores[\"Balanced accuracy\"].append(cv_result[\"test_balanced_accuracy\"].mean())\n",
        "\n",
        "df_scores = pd.DataFrame(scores, index=index)\n",
        "df_scores"
      ]
    },
    {
      "cell_type": "code",
      "execution_count": 65,
      "metadata": {
        "collapsed": false
      },
      "outputs": [
        {
          "data": {
            "text/html": [
              "<div>\n",
              "<style scoped>\n",
              "    .dataframe tbody tr th:only-of-type {\n",
              "        vertical-align: middle;\n",
              "    }\n",
              "\n",
              "    .dataframe tbody tr th {\n",
              "        vertical-align: top;\n",
              "    }\n",
              "\n",
              "    .dataframe thead th {\n",
              "        text-align: right;\n",
              "    }\n",
              "</style>\n",
              "<table border=\"1\" class=\"dataframe\">\n",
              "  <thead>\n",
              "    <tr style=\"text-align: right;\">\n",
              "      <th></th>\n",
              "      <th>Accuracy</th>\n",
              "      <th>Balanced accuracy</th>\n",
              "    </tr>\n",
              "  </thead>\n",
              "  <tbody>\n",
              "    <tr>\n",
              "      <th>Dummy classifier</th>\n",
              "      <td>0.949676</td>\n",
              "      <td>0.500000</td>\n",
              "    </tr>\n",
              "    <tr>\n",
              "      <th>Logistic regression</th>\n",
              "      <td>0.938623</td>\n",
              "      <td>0.497331</td>\n",
              "    </tr>\n",
              "    <tr>\n",
              "      <th>Random forest</th>\n",
              "      <td>0.530513</td>\n",
              "      <td>0.305125</td>\n",
              "    </tr>\n",
              "    <tr>\n",
              "      <th>Logistic regression with balanced class weights</th>\n",
              "      <td>0.574121</td>\n",
              "      <td>0.611144</td>\n",
              "    </tr>\n",
              "    <tr>\n",
              "      <th>Random forest with balanced class weights</th>\n",
              "      <td>0.680929</td>\n",
              "      <td>0.378342</td>\n",
              "    </tr>\n",
              "  </tbody>\n",
              "</table>\n",
              "</div>"
            ],
            "text/plain": [
              "                                                 Accuracy  Balanced accuracy\n",
              "Dummy classifier                                 0.949676           0.500000\n",
              "Logistic regression                              0.938623           0.497331\n",
              "Random forest                                    0.530513           0.305125\n",
              "Logistic regression with balanced class weights  0.574121           0.611144\n",
              "Random forest with balanced class weights        0.680929           0.378342"
            ]
          },
          "execution_count": 65,
          "metadata": {},
          "output_type": "execute_result"
        }
      ],
      "source": [
        "rf_clf.set_params(randomforestclassifier__class_weight=\"balanced\")\n",
        "\n",
        "index += [\"Random forest with balanced class weights\"]\n",
        "cv_result = cross_validate(rf_clf, X, y, scoring=scoring)\n",
        "scores[\"Accuracy\"].append(cv_result[\"test_accuracy\"].mean())\n",
        "scores[\"Balanced accuracy\"].append(cv_result[\"test_balanced_accuracy\"].mean())\n",
        "\n",
        "df_scores = pd.DataFrame(scores, index=index)\n",
        "df_scores"
      ]
    },
    {
      "cell_type": "markdown",
      "metadata": {},
      "source": [
        "We can see that using `class_weight` was really effective for the linear\n",
        "model, alleviating the issue of learning from imbalanced classes. However,\n",
        "the :class:`~sklearn.ensemble.RandomForestClassifier` is still biased toward\n",
        "the majority class, mainly due to the criterion which is not suited enough to\n",
        "fight the class imbalance.\n",
        "\n",
        "### Resample the training set during learning\n",
        "\n",
        "Another way is to resample the training set by under-sampling or\n",
        "over-sampling some of the samples. `imbalanced-learn` provides some samplers\n",
        "to do such processing.\n",
        "\n"
      ]
    },
    {
      "cell_type": "code",
      "execution_count": 66,
      "metadata": {
        "collapsed": false
      },
      "outputs": [],
      "source": [
        "from imblearn.pipeline import make_pipeline as make_pipeline_with_sampler\n",
        "from imblearn.under_sampling import RandomUnderSampler\n",
        "\n",
        "lr_clf = make_pipeline_with_sampler(\n",
        "    preprocessor_linear,\n",
        "    RandomUnderSampler(random_state=42),\n",
        "    LogisticRegression(max_iter=1000),\n",
        ")"
      ]
    },
    {
      "cell_type": "code",
      "execution_count": 67,
      "metadata": {
        "collapsed": false
      },
      "outputs": [
        {
          "data": {
            "text/html": [
              "<div>\n",
              "<style scoped>\n",
              "    .dataframe tbody tr th:only-of-type {\n",
              "        vertical-align: middle;\n",
              "    }\n",
              "\n",
              "    .dataframe tbody tr th {\n",
              "        vertical-align: top;\n",
              "    }\n",
              "\n",
              "    .dataframe thead th {\n",
              "        text-align: right;\n",
              "    }\n",
              "</style>\n",
              "<table border=\"1\" class=\"dataframe\">\n",
              "  <thead>\n",
              "    <tr style=\"text-align: right;\">\n",
              "      <th></th>\n",
              "      <th>Accuracy</th>\n",
              "      <th>Balanced accuracy</th>\n",
              "    </tr>\n",
              "  </thead>\n",
              "  <tbody>\n",
              "    <tr>\n",
              "      <th>Dummy classifier</th>\n",
              "      <td>0.949676</td>\n",
              "      <td>0.500000</td>\n",
              "    </tr>\n",
              "    <tr>\n",
              "      <th>Logistic regression</th>\n",
              "      <td>0.938623</td>\n",
              "      <td>0.497331</td>\n",
              "    </tr>\n",
              "    <tr>\n",
              "      <th>Random forest</th>\n",
              "      <td>0.530513</td>\n",
              "      <td>0.305125</td>\n",
              "    </tr>\n",
              "    <tr>\n",
              "      <th>Logistic regression with balanced class weights</th>\n",
              "      <td>0.574121</td>\n",
              "      <td>0.611144</td>\n",
              "    </tr>\n",
              "    <tr>\n",
              "      <th>Random forest with balanced class weights</th>\n",
              "      <td>0.680929</td>\n",
              "      <td>0.378342</td>\n",
              "    </tr>\n",
              "    <tr>\n",
              "      <th>Under-sampling + Logistic regression</th>\n",
              "      <td>0.572073</td>\n",
              "      <td>0.609646</td>\n",
              "    </tr>\n",
              "  </tbody>\n",
              "</table>\n",
              "</div>"
            ],
            "text/plain": [
              "                                                 Accuracy  Balanced accuracy\n",
              "Dummy classifier                                 0.949676           0.500000\n",
              "Logistic regression                              0.938623           0.497331\n",
              "Random forest                                    0.530513           0.305125\n",
              "Logistic regression with balanced class weights  0.574121           0.611144\n",
              "Random forest with balanced class weights        0.680929           0.378342\n",
              "Under-sampling + Logistic regression             0.572073           0.609646"
            ]
          },
          "execution_count": 67,
          "metadata": {},
          "output_type": "execute_result"
        }
      ],
      "source": [
        "index += [\"Under-sampling + Logistic regression\"]\n",
        "cv_result = cross_validate(lr_clf, X, y, scoring=scoring)\n",
        "scores[\"Accuracy\"].append(cv_result[\"test_accuracy\"].mean())\n",
        "scores[\"Balanced accuracy\"].append(cv_result[\"test_balanced_accuracy\"].mean())\n",
        "\n",
        "df_scores = pd.DataFrame(scores, index=index)\n",
        "df_scores"
      ]
    },
    {
      "cell_type": "code",
      "execution_count": 68,
      "metadata": {
        "collapsed": false
      },
      "outputs": [],
      "source": [
        "rf_clf = make_pipeline_with_sampler(\n",
        "    preprocessor_tree,\n",
        "    RandomUnderSampler(random_state=42),\n",
        "    RandomForestClassifier(random_state=42, n_jobs=2),\n",
        ")"
      ]
    },
    {
      "cell_type": "code",
      "execution_count": 69,
      "metadata": {
        "collapsed": false
      },
      "outputs": [
        {
          "data": {
            "text/html": [
              "<div>\n",
              "<style scoped>\n",
              "    .dataframe tbody tr th:only-of-type {\n",
              "        vertical-align: middle;\n",
              "    }\n",
              "\n",
              "    .dataframe tbody tr th {\n",
              "        vertical-align: top;\n",
              "    }\n",
              "\n",
              "    .dataframe thead th {\n",
              "        text-align: right;\n",
              "    }\n",
              "</style>\n",
              "<table border=\"1\" class=\"dataframe\">\n",
              "  <thead>\n",
              "    <tr style=\"text-align: right;\">\n",
              "      <th></th>\n",
              "      <th>Accuracy</th>\n",
              "      <th>Balanced accuracy</th>\n",
              "    </tr>\n",
              "  </thead>\n",
              "  <tbody>\n",
              "    <tr>\n",
              "      <th>Dummy classifier</th>\n",
              "      <td>0.949676</td>\n",
              "      <td>0.500000</td>\n",
              "    </tr>\n",
              "    <tr>\n",
              "      <th>Logistic regression</th>\n",
              "      <td>0.938623</td>\n",
              "      <td>0.497331</td>\n",
              "    </tr>\n",
              "    <tr>\n",
              "      <th>Random forest</th>\n",
              "      <td>0.530513</td>\n",
              "      <td>0.305125</td>\n",
              "    </tr>\n",
              "    <tr>\n",
              "      <th>Logistic regression with balanced class weights</th>\n",
              "      <td>0.574121</td>\n",
              "      <td>0.611144</td>\n",
              "    </tr>\n",
              "    <tr>\n",
              "      <th>Random forest with balanced class weights</th>\n",
              "      <td>0.680929</td>\n",
              "      <td>0.378342</td>\n",
              "    </tr>\n",
              "    <tr>\n",
              "      <th>Under-sampling + Logistic regression</th>\n",
              "      <td>0.572073</td>\n",
              "      <td>0.609646</td>\n",
              "    </tr>\n",
              "    <tr>\n",
              "      <th>Under-sampling + Random forest</th>\n",
              "      <td>0.512825</td>\n",
              "      <td>0.384932</td>\n",
              "    </tr>\n",
              "  </tbody>\n",
              "</table>\n",
              "</div>"
            ],
            "text/plain": [
              "                                                 Accuracy  Balanced accuracy\n",
              "Dummy classifier                                 0.949676           0.500000\n",
              "Logistic regression                              0.938623           0.497331\n",
              "Random forest                                    0.530513           0.305125\n",
              "Logistic regression with balanced class weights  0.574121           0.611144\n",
              "Random forest with balanced class weights        0.680929           0.378342\n",
              "Under-sampling + Logistic regression             0.572073           0.609646\n",
              "Under-sampling + Random forest                   0.512825           0.384932"
            ]
          },
          "execution_count": 69,
          "metadata": {},
          "output_type": "execute_result"
        }
      ],
      "source": [
        "index += [\"Under-sampling + Random forest\"]\n",
        "cv_result = cross_validate(rf_clf, X, y, scoring=scoring)\n",
        "scores[\"Accuracy\"].append(cv_result[\"test_accuracy\"].mean())\n",
        "scores[\"Balanced accuracy\"].append(cv_result[\"test_balanced_accuracy\"].mean())\n",
        "\n",
        "df_scores = pd.DataFrame(scores, index=index)\n",
        "df_scores"
      ]
    },
    {
      "cell_type": "markdown",
      "metadata": {},
      "source": [
        "Applying a random under-sampler before the training of the linear model or\n",
        "random forest, allows to not focus on the majority class at the cost of\n",
        "making more mistake for samples in the majority class (i.e. decreased\n",
        "accuracy).\n",
        "\n",
        "We could apply any type of samplers and find which sampler is working best\n",
        "on the current dataset.\n",
        "\n",
        "Instead, we will present another way by using classifiers which will apply\n",
        "sampling internally.\n",
        "\n",
        "### Use of specific balanced algorithms from imbalanced-learn\n",
        "\n",
        "We already showed that random under-sampling can be effective on decision\n",
        "tree. However, instead of under-sampling once the dataset, one could\n",
        "under-sample the original dataset before to take a bootstrap sample. This is\n",
        "the base of the :class:`imblearn.ensemble.BalancedRandomForestClassifier` and\n",
        ":class:`~imblearn.ensemble.BalancedBaggingClassifier`.\n",
        "\n"
      ]
    },
    {
      "cell_type": "code",
      "execution_count": 70,
      "metadata": {
        "collapsed": false
      },
      "outputs": [],
      "source": [
        "from imblearn.ensemble import BalancedRandomForestClassifier\n",
        "\n",
        "rf_clf = make_pipeline(\n",
        "    preprocessor_tree,\n",
        "    BalancedRandomForestClassifier(random_state=42, n_jobs=2),\n",
        ")"
      ]
    },
    {
      "cell_type": "code",
      "execution_count": 71,
      "metadata": {
        "collapsed": false
      },
      "outputs": [
        {
          "data": {
            "text/html": [
              "<div>\n",
              "<style scoped>\n",
              "    .dataframe tbody tr th:only-of-type {\n",
              "        vertical-align: middle;\n",
              "    }\n",
              "\n",
              "    .dataframe tbody tr th {\n",
              "        vertical-align: top;\n",
              "    }\n",
              "\n",
              "    .dataframe thead th {\n",
              "        text-align: right;\n",
              "    }\n",
              "</style>\n",
              "<table border=\"1\" class=\"dataframe\">\n",
              "  <thead>\n",
              "    <tr style=\"text-align: right;\">\n",
              "      <th></th>\n",
              "      <th>Accuracy</th>\n",
              "      <th>Balanced accuracy</th>\n",
              "    </tr>\n",
              "  </thead>\n",
              "  <tbody>\n",
              "    <tr>\n",
              "      <th>Dummy classifier</th>\n",
              "      <td>0.949676</td>\n",
              "      <td>0.500000</td>\n",
              "    </tr>\n",
              "    <tr>\n",
              "      <th>Logistic regression</th>\n",
              "      <td>0.938623</td>\n",
              "      <td>0.497331</td>\n",
              "    </tr>\n",
              "    <tr>\n",
              "      <th>Random forest</th>\n",
              "      <td>0.530513</td>\n",
              "      <td>0.305125</td>\n",
              "    </tr>\n",
              "    <tr>\n",
              "      <th>Logistic regression with balanced class weights</th>\n",
              "      <td>0.574121</td>\n",
              "      <td>0.611144</td>\n",
              "    </tr>\n",
              "    <tr>\n",
              "      <th>Random forest with balanced class weights</th>\n",
              "      <td>0.680929</td>\n",
              "      <td>0.378342</td>\n",
              "    </tr>\n",
              "    <tr>\n",
              "      <th>Under-sampling + Logistic regression</th>\n",
              "      <td>0.572073</td>\n",
              "      <td>0.609646</td>\n",
              "    </tr>\n",
              "    <tr>\n",
              "      <th>Under-sampling + Random forest</th>\n",
              "      <td>0.512825</td>\n",
              "      <td>0.384932</td>\n",
              "    </tr>\n",
              "    <tr>\n",
              "      <th>Balanced random forest</th>\n",
              "      <td>0.535537</td>\n",
              "      <td>0.399958</td>\n",
              "    </tr>\n",
              "  </tbody>\n",
              "</table>\n",
              "</div>"
            ],
            "text/plain": [
              "                                                 Accuracy  Balanced accuracy\n",
              "Dummy classifier                                 0.949676           0.500000\n",
              "Logistic regression                              0.938623           0.497331\n",
              "Random forest                                    0.530513           0.305125\n",
              "Logistic regression with balanced class weights  0.574121           0.611144\n",
              "Random forest with balanced class weights        0.680929           0.378342\n",
              "Under-sampling + Logistic regression             0.572073           0.609646\n",
              "Under-sampling + Random forest                   0.512825           0.384932\n",
              "Balanced random forest                           0.535537           0.399958"
            ]
          },
          "execution_count": 71,
          "metadata": {},
          "output_type": "execute_result"
        }
      ],
      "source": [
        "index += [\"Balanced random forest\"]\n",
        "cv_result = cross_validate(rf_clf, X, y, scoring=scoring)\n",
        "scores[\"Accuracy\"].append(cv_result[\"test_accuracy\"].mean())\n",
        "scores[\"Balanced accuracy\"].append(cv_result[\"test_balanced_accuracy\"].mean())\n",
        "\n",
        "df_scores = pd.DataFrame(scores, index=index)\n",
        "df_scores"
      ]
    },
    {
      "cell_type": "markdown",
      "metadata": {},
      "source": [
        "The performance with the\n",
        ":class:`~imblearn.ensemble.BalancedRandomForestClassifier` is better than\n",
        "applying a single random under-sampling. We will use a gradient-boosting\n",
        "classifier within a :class:`~imblearn.ensemble.BalancedBaggingClassifier`.\n",
        "\n"
      ]
    },
    {
      "cell_type": "code",
      "execution_count": 72,
      "metadata": {
        "collapsed": false
      },
      "outputs": [
        {
          "data": {
            "text/html": [
              "<div>\n",
              "<style scoped>\n",
              "    .dataframe tbody tr th:only-of-type {\n",
              "        vertical-align: middle;\n",
              "    }\n",
              "\n",
              "    .dataframe tbody tr th {\n",
              "        vertical-align: top;\n",
              "    }\n",
              "\n",
              "    .dataframe thead th {\n",
              "        text-align: right;\n",
              "    }\n",
              "</style>\n",
              "<table border=\"1\" class=\"dataframe\">\n",
              "  <thead>\n",
              "    <tr style=\"text-align: right;\">\n",
              "      <th></th>\n",
              "      <th>Accuracy</th>\n",
              "      <th>Balanced accuracy</th>\n",
              "    </tr>\n",
              "  </thead>\n",
              "  <tbody>\n",
              "    <tr>\n",
              "      <th>Dummy classifier</th>\n",
              "      <td>0.949676</td>\n",
              "      <td>0.500000</td>\n",
              "    </tr>\n",
              "    <tr>\n",
              "      <th>Logistic regression</th>\n",
              "      <td>0.938623</td>\n",
              "      <td>0.497331</td>\n",
              "    </tr>\n",
              "    <tr>\n",
              "      <th>Random forest</th>\n",
              "      <td>0.530513</td>\n",
              "      <td>0.305125</td>\n",
              "    </tr>\n",
              "    <tr>\n",
              "      <th>Logistic regression with balanced class weights</th>\n",
              "      <td>0.574121</td>\n",
              "      <td>0.611144</td>\n",
              "    </tr>\n",
              "    <tr>\n",
              "      <th>Random forest with balanced class weights</th>\n",
              "      <td>0.680929</td>\n",
              "      <td>0.378342</td>\n",
              "    </tr>\n",
              "    <tr>\n",
              "      <th>Under-sampling + Logistic regression</th>\n",
              "      <td>0.572073</td>\n",
              "      <td>0.609646</td>\n",
              "    </tr>\n",
              "    <tr>\n",
              "      <th>Under-sampling + Random forest</th>\n",
              "      <td>0.512825</td>\n",
              "      <td>0.384932</td>\n",
              "    </tr>\n",
              "    <tr>\n",
              "      <th>Balanced random forest</th>\n",
              "      <td>0.535537</td>\n",
              "      <td>0.399958</td>\n",
              "    </tr>\n",
              "    <tr>\n",
              "      <th>Balanced bag of histogram gradient boosting</th>\n",
              "      <td>0.404184</td>\n",
              "      <td>0.388470</td>\n",
              "    </tr>\n",
              "  </tbody>\n",
              "</table>\n",
              "</div>"
            ],
            "text/plain": [
              "                                                 Accuracy  Balanced accuracy\n",
              "Dummy classifier                                 0.949676           0.500000\n",
              "Logistic regression                              0.938623           0.497331\n",
              "Random forest                                    0.530513           0.305125\n",
              "Logistic regression with balanced class weights  0.574121           0.611144\n",
              "Random forest with balanced class weights        0.680929           0.378342\n",
              "Under-sampling + Logistic regression             0.572073           0.609646\n",
              "Under-sampling + Random forest                   0.512825           0.384932\n",
              "Balanced random forest                           0.535537           0.399958\n",
              "Balanced bag of histogram gradient boosting      0.404184           0.388470"
            ]
          },
          "execution_count": 72,
          "metadata": {},
          "output_type": "execute_result"
        }
      ],
      "source": [
        "from sklearn.experimental import enable_hist_gradient_boosting  # noqa\n",
        "from sklearn.ensemble import HistGradientBoostingClassifier\n",
        "from imblearn.ensemble import BalancedBaggingClassifier\n",
        "\n",
        "bag_clf = make_pipeline(\n",
        "    preprocessor_tree,\n",
        "    BalancedBaggingClassifier(\n",
        "        base_estimator=HistGradientBoostingClassifier(random_state=42),\n",
        "        n_estimators=10,\n",
        "        random_state=42,\n",
        "        n_jobs=2,\n",
        "    ),\n",
        ")\n",
        "\n",
        "index += [\"Balanced bag of histogram gradient boosting\"]\n",
        "cv_result = cross_validate(bag_clf, X, y, scoring=scoring)\n",
        "scores[\"Accuracy\"].append(cv_result[\"test_accuracy\"].mean())\n",
        "scores[\"Balanced accuracy\"].append(cv_result[\"test_balanced_accuracy\"].mean())\n",
        "\n",
        "df_scores = pd.DataFrame(scores, index=index)\n",
        "df_scores"
      ]
    },
    {
      "cell_type": "code",
      "execution_count": 74,
      "metadata": {},
      "outputs": [
        {
          "data": {
            "text/plain": [
              "{'fit_time': array([6.12350273, 6.15721726, 7.08900547, 6.98826957, 6.76534963]),\n",
              " 'score_time': array([1.2804234 , 1.42841387, 1.73170495, 1.51417255, 1.52870631]),\n",
              " 'test_accuracy': array([0.05814742, 0.40272282, 0.51078569, 0.51926659, 0.52999648]),\n",
              " 'test_balanced_accuracy': array([0.0968503 , 0.49862293, 0.59988654, 0.45583192, 0.29115588])}"
            ]
          },
          "execution_count": 74,
          "metadata": {},
          "output_type": "execute_result"
        }
      ],
      "source": [
        "cv_result"
      ]
    },
    {
      "cell_type": "markdown",
      "metadata": {},
      "source": [
        "This last approach is the most effective. The different under-sampling allows\n",
        "to bring some diversity for the different GBDT to learn and not focus on a\n",
        "portion of the majority class.\n",
        "\n"
      ]
    }
  ],
  "metadata": {
    "kernelspec": {
      "display_name": "Python 3",
      "language": "python",
      "name": "python3"
    },
    "language_info": {
      "codemirror_mode": {
        "name": "ipython",
        "version": 3
      },
      "file_extension": ".py",
      "mimetype": "text/x-python",
      "name": "python",
      "nbconvert_exporter": "python",
      "pygments_lexer": "ipython3",
      "version": "3.8.8"
    }
  },
  "nbformat": 4,
  "nbformat_minor": 0
}
